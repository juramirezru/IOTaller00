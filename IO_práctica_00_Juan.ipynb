{
  "nbformat": 4,
  "nbformat_minor": 0,
  "metadata": {
    "colab": {
      "provenance": [],
      "authorship_tag": "ABX9TyNVCtOpzwDp5dZpcd6LB6Zk",
      "include_colab_link": true
    },
    "kernelspec": {
      "name": "python3",
      "display_name": "Python 3"
    },
    "language_info": {
      "name": "python"
    }
  },
  "cells": [
    {
      "cell_type": "markdown",
      "metadata": {
        "id": "view-in-github",
        "colab_type": "text"
      },
      "source": [
        "<a href=\"https://colab.research.google.com/github/juramirezru/IOTaller00/blob/main/IO_pr%C3%A1ctica_00_Juan.ipynb\" target=\"_parent\"><img src=\"https://colab.research.google.com/assets/colab-badge.svg\" alt=\"Open In Colab\"/></a>"
      ]
    },
    {
      "cell_type": "markdown",
      "source": [
        "Hola, el siguiente código imprimirá un saludo en alemán, seguido de la hipotética edad del programador desde los 1 hasta los 20 años."
      ],
      "metadata": {
        "id": "DwAfaGLWaxfP"
      }
    },
    {
      "cell_type": "code",
      "source": [
        "print(f\"Hallöchen Welt, Ich bin 1 Jahr alt.\")\n",
        "for i in range (2,21):\n",
        "  print(f\"Hallöchen Welt, Ich bin {i} Jahre alt.\")"
      ],
      "metadata": {
        "colab": {
          "base_uri": "https://localhost:8080/"
        },
        "id": "DX2e6CT7aLVC",
        "outputId": "49aef8ba-61fe-4796-b3ef-4ee9e1f52add"
      },
      "execution_count": 11,
      "outputs": [
        {
          "output_type": "stream",
          "name": "stdout",
          "text": [
            "Hallöchen Welt, Ich bin 1 Jahr alt.\n",
            "Hallöchen Welt, Ich bin 2 Jahre alt.\n",
            "Hallöchen Welt, Ich bin 3 Jahre alt.\n",
            "Hallöchen Welt, Ich bin 4 Jahre alt.\n",
            "Hallöchen Welt, Ich bin 5 Jahre alt.\n",
            "Hallöchen Welt, Ich bin 6 Jahre alt.\n",
            "Hallöchen Welt, Ich bin 7 Jahre alt.\n",
            "Hallöchen Welt, Ich bin 8 Jahre alt.\n",
            "Hallöchen Welt, Ich bin 9 Jahre alt.\n",
            "Hallöchen Welt, Ich bin 10 Jahre alt.\n",
            "Hallöchen Welt, Ich bin 11 Jahre alt.\n",
            "Hallöchen Welt, Ich bin 12 Jahre alt.\n",
            "Hallöchen Welt, Ich bin 13 Jahre alt.\n",
            "Hallöchen Welt, Ich bin 14 Jahre alt.\n",
            "Hallöchen Welt, Ich bin 15 Jahre alt.\n",
            "Hallöchen Welt, Ich bin 16 Jahre alt.\n",
            "Hallöchen Welt, Ich bin 17 Jahre alt.\n",
            "Hallöchen Welt, Ich bin 18 Jahre alt.\n",
            "Hallöchen Welt, Ich bin 19 Jahre alt.\n",
            "Hallöchen Welt, Ich bin 20 Jahre alt.\n"
          ]
        }
      ]
    }
  ]
}